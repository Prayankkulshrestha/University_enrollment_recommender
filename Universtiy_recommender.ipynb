{
 "cells": [
  {
   "cell_type": "markdown",
   "metadata": {},
   "source": [
    "# University Recommender system\n",
    "\n",
    "# Objective \n",
    "* Following Recommender system suggest that whether university admitted student or not based on information avilable \n",
    "\n"
   ]
  },
  {
   "cell_type": "code",
   "execution_count": 173,
   "metadata": {},
   "outputs": [],
   "source": [
    "import pandas as pd\n",
    "import numpy as np\n",
    "import matplotlib.pyplot as plt\n",
    "from statsmodels.graphics.mosaicplot import mosaic\n",
    "from sklearn.preprocessing import StandardScaler\n",
    "from sklearn.decomposition import PCA\n",
    "from sklearn.preprocessing import LabelEncoder\n",
    "from sklearn.preprocessing import OneHotEncoder\n",
    "from sklearn import linear_model, svm, tree, ensemble\n",
    "from sklearn.model_selection import train_test_split\n",
    "from sklearn.model_selection import learning_curve\n",
    "from sklearn.tree import DecisionTreeClassifier\n",
    "from sklearn.model_selection import cross_val_score\n",
    "from sklearn.linear_model import LogisticRegression\n",
    "from sklearn.metrics import accuracy_score\n",
    "from sklearn.metrics import confusion_matrix\n",
    "from sklearn.metrics import classification_report\n",
    "from sklearn.ensemble import RandomForestClassifier,AdaBoostClassifier,GradientBoostingClassifier\n",
    "from sklearn.svm import LinearSVC\n",
    "from sklearn.model_selection import GridSearchCV,StratifiedKFold\n",
    "import seaborn as sns\n",
    "from scipy import stats\n",
    "import warnings\n",
    "warnings.filterwarnings('ignore')\n",
    "from datetime import datetime as dt"
   ]
  },
  {
   "cell_type": "code",
   "execution_count": 174,
   "metadata": {},
   "outputs": [
    {
     "data": {
      "text/html": [
       "<div>\n",
       "<style scoped>\n",
       "    .dataframe tbody tr th:only-of-type {\n",
       "        vertical-align: middle;\n",
       "    }\n",
       "\n",
       "    .dataframe tbody tr th {\n",
       "        vertical-align: top;\n",
       "    }\n",
       "\n",
       "    .dataframe thead th {\n",
       "        text-align: right;\n",
       "    }\n",
       "</style>\n",
       "<table border=\"1\" class=\"dataframe\">\n",
       "  <thead>\n",
       "    <tr style=\"text-align: right;\">\n",
       "      <th></th>\n",
       "      <th>Academic Period</th>\n",
       "      <th>Unique ID</th>\n",
       "      <th>State Province</th>\n",
       "      <th>Student Population</th>\n",
       "      <th>Application Date</th>\n",
       "      <th>Admissions Population Description</th>\n",
       "      <th>Residency Description</th>\n",
       "      <th>College Description</th>\n",
       "      <th>Major Description</th>\n",
       "      <th>Gender</th>\n",
       "      <th>...</th>\n",
       "      <th>Common Application</th>\n",
       "      <th>College Online Application</th>\n",
       "      <th>Common Application Upload</th>\n",
       "      <th>College Paper Application</th>\n",
       "      <th>Pre-Dental</th>\n",
       "      <th>Pre-Law</th>\n",
       "      <th>Pre-Med</th>\n",
       "      <th>Pre-Veterinarian</th>\n",
       "      <th>Admitted</th>\n",
       "      <th>Enrolled</th>\n",
       "    </tr>\n",
       "  </thead>\n",
       "  <tbody>\n",
       "    <tr>\n",
       "      <th>0</th>\n",
       "      <td>200640</td>\n",
       "      <td>51954735</td>\n",
       "      <td>NJ</td>\n",
       "      <td>F</td>\n",
       "      <td>13-Sep-05</td>\n",
       "      <td>Early Action</td>\n",
       "      <td>Live on-campus (Resident)</td>\n",
       "      <td>Arts and Science</td>\n",
       "      <td>Elementary Education</td>\n",
       "      <td>Female</td>\n",
       "      <td>...</td>\n",
       "      <td>0</td>\n",
       "      <td>1</td>\n",
       "      <td>0</td>\n",
       "      <td>0</td>\n",
       "      <td>0</td>\n",
       "      <td>0</td>\n",
       "      <td>0</td>\n",
       "      <td>0</td>\n",
       "      <td>Admitted</td>\n",
       "      <td>Enrolled</td>\n",
       "    </tr>\n",
       "    <tr>\n",
       "      <th>1</th>\n",
       "      <td>200640</td>\n",
       "      <td>51937025</td>\n",
       "      <td>PA</td>\n",
       "      <td>F</td>\n",
       "      <td>13-Sep-05</td>\n",
       "      <td>Early Action</td>\n",
       "      <td>Live on-campus (Resident)</td>\n",
       "      <td>Arts and Science</td>\n",
       "      <td>English</td>\n",
       "      <td>Female</td>\n",
       "      <td>...</td>\n",
       "      <td>0</td>\n",
       "      <td>1</td>\n",
       "      <td>0</td>\n",
       "      <td>0</td>\n",
       "      <td>0</td>\n",
       "      <td>0</td>\n",
       "      <td>0</td>\n",
       "      <td>0</td>\n",
       "      <td>Admitted</td>\n",
       "      <td>Not enrolled</td>\n",
       "    </tr>\n",
       "    <tr>\n",
       "      <th>2</th>\n",
       "      <td>200640</td>\n",
       "      <td>51953900</td>\n",
       "      <td>PA</td>\n",
       "      <td>F</td>\n",
       "      <td>13-Sep-05</td>\n",
       "      <td>Early Action</td>\n",
       "      <td>Live on-campus (Resident)</td>\n",
       "      <td>Arts and Science</td>\n",
       "      <td>Undecided Natural Science</td>\n",
       "      <td>Female</td>\n",
       "      <td>...</td>\n",
       "      <td>1</td>\n",
       "      <td>0</td>\n",
       "      <td>0</td>\n",
       "      <td>0</td>\n",
       "      <td>0</td>\n",
       "      <td>0</td>\n",
       "      <td>0</td>\n",
       "      <td>0</td>\n",
       "      <td>Admitted</td>\n",
       "      <td>Not enrolled</td>\n",
       "    </tr>\n",
       "    <tr>\n",
       "      <th>3</th>\n",
       "      <td>200640</td>\n",
       "      <td>51954245</td>\n",
       "      <td>PA</td>\n",
       "      <td>F</td>\n",
       "      <td>13-Sep-05</td>\n",
       "      <td>Early Action</td>\n",
       "      <td>Live on-campus (Resident)</td>\n",
       "      <td>Arts and Science</td>\n",
       "      <td>Undeclared Social Science</td>\n",
       "      <td>Female</td>\n",
       "      <td>...</td>\n",
       "      <td>1</td>\n",
       "      <td>0</td>\n",
       "      <td>0</td>\n",
       "      <td>0</td>\n",
       "      <td>0</td>\n",
       "      <td>0</td>\n",
       "      <td>0</td>\n",
       "      <td>0</td>\n",
       "      <td>Admitted</td>\n",
       "      <td>Not enrolled</td>\n",
       "    </tr>\n",
       "    <tr>\n",
       "      <th>4</th>\n",
       "      <td>200640</td>\n",
       "      <td>51954500</td>\n",
       "      <td>PA</td>\n",
       "      <td>F</td>\n",
       "      <td>13-Sep-05</td>\n",
       "      <td>Early Action</td>\n",
       "      <td>Live on-campus (Resident)</td>\n",
       "      <td>School of Business</td>\n",
       "      <td>Marketing</td>\n",
       "      <td>Male</td>\n",
       "      <td>...</td>\n",
       "      <td>0</td>\n",
       "      <td>1</td>\n",
       "      <td>0</td>\n",
       "      <td>0</td>\n",
       "      <td>0</td>\n",
       "      <td>0</td>\n",
       "      <td>0</td>\n",
       "      <td>0</td>\n",
       "      <td>Admitted</td>\n",
       "      <td>Enrolled</td>\n",
       "    </tr>\n",
       "  </tbody>\n",
       "</table>\n",
       "<p>5 rows × 37 columns</p>\n",
       "</div>"
      ],
      "text/plain": [
       "   Academic Period  Unique ID State Province Student Population  \\\n",
       "0           200640   51954735             NJ                  F   \n",
       "1           200640   51937025             PA                  F   \n",
       "2           200640   51953900             PA                  F   \n",
       "3           200640   51954245             PA                  F   \n",
       "4           200640   51954500             PA                  F   \n",
       "\n",
       "  Application Date Admissions Population Description  \\\n",
       "0        13-Sep-05                      Early Action   \n",
       "1        13-Sep-05                      Early Action   \n",
       "2        13-Sep-05                      Early Action   \n",
       "3        13-Sep-05                      Early Action   \n",
       "4        13-Sep-05                      Early Action   \n",
       "\n",
       "       Residency Description College Description          Major Description  \\\n",
       "0  Live on-campus (Resident)    Arts and Science       Elementary Education   \n",
       "1  Live on-campus (Resident)    Arts and Science                    English   \n",
       "2  Live on-campus (Resident)    Arts and Science  Undecided Natural Science   \n",
       "3  Live on-campus (Resident)    Arts and Science  Undeclared Social Science   \n",
       "4  Live on-campus (Resident)  School of Business                  Marketing   \n",
       "\n",
       "   Gender      ...       Common Application  College Online Application  \\\n",
       "0  Female      ...                        0                           1   \n",
       "1  Female      ...                        0                           1   \n",
       "2  Female      ...                        1                           0   \n",
       "3  Female      ...                        1                           0   \n",
       "4    Male      ...                        0                           1   \n",
       "\n",
       "   Common Application Upload  College Paper Application  Pre-Dental  Pre-Law  \\\n",
       "0                          0                          0           0        0   \n",
       "1                          0                          0           0        0   \n",
       "2                          0                          0           0        0   \n",
       "3                          0                          0           0        0   \n",
       "4                          0                          0           0        0   \n",
       "\n",
       "   Pre-Med  Pre-Veterinarian  Admitted      Enrolled  \n",
       "0        0                 0  Admitted      Enrolled  \n",
       "1        0                 0  Admitted  Not enrolled  \n",
       "2        0                 0  Admitted  Not enrolled  \n",
       "3        0                 0  Admitted  Not enrolled  \n",
       "4        0                 0  Admitted      Enrolled  \n",
       "\n",
       "[5 rows x 37 columns]"
      ]
     },
     "execution_count": 174,
     "metadata": {},
     "output_type": "execute_result"
    }
   ],
   "source": [
    "df = pd.read_csv(r'G:/Assignment_NTL/Data/EnrollmentData.csv')\n",
    "df.head()"
   ]
  },
  {
   "cell_type": "code",
   "execution_count": 175,
   "metadata": {},
   "outputs": [
    {
     "data": {
      "text/plain": [
       "(Academic Period                        int64\n",
       " Unique ID                              int64\n",
       " State Province                        object\n",
       " Student Population                    object\n",
       " Application Date                      object\n",
       " Admissions Population Description     object\n",
       " Residency Description                 object\n",
       " College Description                   object\n",
       " Major Description                     object\n",
       " Gender                                object\n",
       " High School GPA                      float64\n",
       " Act English                          float64\n",
       " Act Math                             float64\n",
       " Act Reading                          float64\n",
       " Act Science Reasoning                float64\n",
       " Act Composite                        float64\n",
       " Sat Verbal                           float64\n",
       " Sat Mathematics                      float64\n",
       " Sat Total Score                      float64\n",
       " Institutional Aid Offered            float64\n",
       " Class Rank                           float64\n",
       " Class Size                           float64\n",
       " Class Rank Percentile                float64\n",
       " Admissions Athlete                     int64\n",
       " Need-Based Financial Aid               int64\n",
       " Merit-Based Financial Aid              int64\n",
       " Common Application- Paper              int64\n",
       " Common Application                     int64\n",
       " College Online Application             int64\n",
       " Common Application Upload              int64\n",
       " College Paper Application              int64\n",
       " Pre-Dental                             int64\n",
       " Pre-Law                                int64\n",
       " Pre-Med                                int64\n",
       " Pre-Veterinarian                       int64\n",
       " Admitted                              object\n",
       " Enrolled                              object\n",
       " dtype: object,\n",
       " Index(['Academic Period', 'Unique ID', 'State Province', 'Student Population',\n",
       "        'Application Date', 'Admissions Population Description',\n",
       "        'Residency Description', 'College Description', 'Major Description',\n",
       "        'Gender', 'High School GPA', 'Act English', 'Act Math', 'Act Reading',\n",
       "        'Act Science Reasoning', 'Act Composite', 'Sat Verbal',\n",
       "        'Sat Mathematics', 'Sat Total Score', 'Institutional Aid Offered',\n",
       "        'Class Rank', 'Class Size', 'Class Rank Percentile',\n",
       "        'Admissions Athlete', 'Need-Based Financial Aid',\n",
       "        'Merit-Based Financial Aid', 'Common Application- Paper',\n",
       "        'Common Application', 'College Online Application',\n",
       "        'Common Application Upload', 'College Paper Application', 'Pre-Dental',\n",
       "        'Pre-Law', 'Pre-Med', 'Pre-Veterinarian', 'Admitted', 'Enrolled'],\n",
       "       dtype='object'))"
      ]
     },
     "execution_count": 175,
     "metadata": {},
     "output_type": "execute_result"
    }
   ],
   "source": [
    "df.dtypes,df.columns"
   ]
  },
  {
   "cell_type": "markdown",
   "metadata": {},
   "source": [
    "# Null and Duplicate values in Data"
   ]
  },
  {
   "cell_type": "code",
   "execution_count": 176,
   "metadata": {},
   "outputs": [
    {
     "name": "stdout",
     "output_type": "stream",
     "text": [
      "---------- Display information about column types and number of null values ----------\n"
     ]
    },
    {
     "data": {
      "text/html": [
       "<div>\n",
       "<style scoped>\n",
       "    .dataframe tbody tr th:only-of-type {\n",
       "        vertical-align: middle;\n",
       "    }\n",
       "\n",
       "    .dataframe tbody tr th {\n",
       "        vertical-align: top;\n",
       "    }\n",
       "\n",
       "    .dataframe thead th {\n",
       "        text-align: right;\n",
       "    }\n",
       "</style>\n",
       "<table border=\"1\" class=\"dataframe\">\n",
       "  <thead>\n",
       "    <tr style=\"text-align: right;\">\n",
       "      <th></th>\n",
       "      <th>Academic Period</th>\n",
       "      <th>Unique ID</th>\n",
       "      <th>State Province</th>\n",
       "      <th>Student Population</th>\n",
       "      <th>Application Date</th>\n",
       "      <th>Admissions Population Description</th>\n",
       "      <th>Residency Description</th>\n",
       "      <th>College Description</th>\n",
       "      <th>Major Description</th>\n",
       "      <th>Gender</th>\n",
       "      <th>...</th>\n",
       "      <th>Common Application</th>\n",
       "      <th>College Online Application</th>\n",
       "      <th>Common Application Upload</th>\n",
       "      <th>College Paper Application</th>\n",
       "      <th>Pre-Dental</th>\n",
       "      <th>Pre-Law</th>\n",
       "      <th>Pre-Med</th>\n",
       "      <th>Pre-Veterinarian</th>\n",
       "      <th>Admitted</th>\n",
       "      <th>Enrolled</th>\n",
       "    </tr>\n",
       "  </thead>\n",
       "  <tbody>\n",
       "    <tr>\n",
       "      <th>column type</th>\n",
       "      <td>int64</td>\n",
       "      <td>int64</td>\n",
       "      <td>object</td>\n",
       "      <td>object</td>\n",
       "      <td>object</td>\n",
       "      <td>object</td>\n",
       "      <td>object</td>\n",
       "      <td>object</td>\n",
       "      <td>object</td>\n",
       "      <td>object</td>\n",
       "      <td>...</td>\n",
       "      <td>int64</td>\n",
       "      <td>int64</td>\n",
       "      <td>int64</td>\n",
       "      <td>int64</td>\n",
       "      <td>int64</td>\n",
       "      <td>int64</td>\n",
       "      <td>int64</td>\n",
       "      <td>int64</td>\n",
       "      <td>object</td>\n",
       "      <td>object</td>\n",
       "    </tr>\n",
       "    <tr>\n",
       "      <th>null values (nb)</th>\n",
       "      <td>0</td>\n",
       "      <td>0</td>\n",
       "      <td>491</td>\n",
       "      <td>0</td>\n",
       "      <td>0</td>\n",
       "      <td>1360</td>\n",
       "      <td>0</td>\n",
       "      <td>0</td>\n",
       "      <td>0</td>\n",
       "      <td>9</td>\n",
       "      <td>...</td>\n",
       "      <td>0</td>\n",
       "      <td>0</td>\n",
       "      <td>0</td>\n",
       "      <td>0</td>\n",
       "      <td>0</td>\n",
       "      <td>0</td>\n",
       "      <td>0</td>\n",
       "      <td>0</td>\n",
       "      <td>0</td>\n",
       "      <td>0</td>\n",
       "    </tr>\n",
       "    <tr>\n",
       "      <th>null values (%)</th>\n",
       "      <td>0</td>\n",
       "      <td>0</td>\n",
       "      <td>1.2449</td>\n",
       "      <td>0</td>\n",
       "      <td>0</td>\n",
       "      <td>3.44819</td>\n",
       "      <td>0</td>\n",
       "      <td>0</td>\n",
       "      <td>0</td>\n",
       "      <td>0.0228189</td>\n",
       "      <td>...</td>\n",
       "      <td>0</td>\n",
       "      <td>0</td>\n",
       "      <td>0</td>\n",
       "      <td>0</td>\n",
       "      <td>0</td>\n",
       "      <td>0</td>\n",
       "      <td>0</td>\n",
       "      <td>0</td>\n",
       "      <td>0</td>\n",
       "      <td>0</td>\n",
       "    </tr>\n",
       "  </tbody>\n",
       "</table>\n",
       "<p>3 rows × 37 columns</p>\n",
       "</div>"
      ],
      "text/plain": [
       "                 Academic Period Unique ID State Province Student Population  \\\n",
       "column type                int64     int64         object             object   \n",
       "null values (nb)               0         0            491                  0   \n",
       "null values (%)                0         0         1.2449                  0   \n",
       "\n",
       "                 Application Date Admissions Population Description  \\\n",
       "column type                object                            object   \n",
       "null values (nb)                0                              1360   \n",
       "null values (%)                 0                           3.44819   \n",
       "\n",
       "                 Residency Description College Description Major Description  \\\n",
       "column type                     object              object            object   \n",
       "null values (nb)                     0                   0                 0   \n",
       "null values (%)                      0                   0                 0   \n",
       "\n",
       "                     Gender   ...    Common Application  \\\n",
       "column type          object   ...                 int64   \n",
       "null values (nb)          9   ...                     0   \n",
       "null values (%)   0.0228189   ...                     0   \n",
       "\n",
       "                 College Online Application Common Application Upload  \\\n",
       "column type                           int64                     int64   \n",
       "null values (nb)                          0                         0   \n",
       "null values (%)                           0                         0   \n",
       "\n",
       "                 College Paper Application Pre-Dental Pre-Law Pre-Med  \\\n",
       "column type                          int64      int64   int64   int64   \n",
       "null values (nb)                         0          0       0       0   \n",
       "null values (%)                          0          0       0       0   \n",
       "\n",
       "                 Pre-Veterinarian Admitted Enrolled  \n",
       "column type                 int64   object   object  \n",
       "null values (nb)                0        0        0  \n",
       "null values (%)                 0        0        0  \n",
       "\n",
       "[3 rows x 37 columns]"
      ]
     },
     "metadata": {},
     "output_type": "display_data"
    },
    {
     "name": "stdout",
     "output_type": "stream",
     "text": [
      "None\n"
     ]
    }
   ],
   "source": [
    "# gives some infomation on columns types and number of null values\n",
    "tab_info=pd.DataFrame(df.dtypes).T.rename(index={0:'column type'})\n",
    "tab_info=tab_info.append(pd.DataFrame(df.isnull().sum()).T.rename(index={0:'null values (nb)'}))\n",
    "tab_info=tab_info.append(pd.DataFrame(df.isnull().sum()/df.shape[0]*100).T.\n",
    "                         rename(index={0:'null values (%)'}))\n",
    "print ('-' * 10 + \" Display information about column types and number of null values \" +\n",
    "       '-' * 10 )\n",
    "\n",
    "print(display(tab_info))"
   ]
  },
  {
   "cell_type": "code",
   "execution_count": 177,
   "metadata": {},
   "outputs": [
    {
     "name": "stdout",
     "output_type": "stream",
     "text": [
      "Duplicate data entries: 0\n"
     ]
    }
   ],
   "source": [
    "print('Duplicate data entries: {}'.format(df.duplicated().sum()))"
   ]
  },
  {
   "cell_type": "markdown",
   "metadata": {},
   "source": [
    "* No Duplicate Value found and Many Features has significant Null Values \n",
    "* uniqueID has no relevance \n",
    "* Class Rank,Class Size,Class Rank Percentile has more than 81% Missing value better to drop\n",
    "* Pre-Veterinarain Has only one category,please drop"
   ]
  },
  {
   "cell_type": "code",
   "execution_count": 178,
   "metadata": {},
   "outputs": [],
   "source": [
    "drop_col = ['Unique ID','Class Rank','Class Size','Class Rank Percentile','Pre-Veterinarian']\n",
    "df.drop(drop_col,axis =1 ,inplace = True)"
   ]
  },
  {
   "cell_type": "markdown",
   "metadata": {},
   "source": [
    "* Datetime Feature Extraction using year,month"
   ]
  },
  {
   "cell_type": "code",
   "execution_count": 179,
   "metadata": {},
   "outputs": [],
   "source": [
    "df['Academic Period_year'] =  pd.Series(df['Academic Period'], index = df.index)\n",
    "df['Academic Period_year'] = df['Academic Period'].apply(lambda x : x//100)\n",
    "df.drop('Academic Period',axis=1,inplace=True)"
   ]
  },
  {
   "cell_type": "code",
   "execution_count": 180,
   "metadata": {},
   "outputs": [],
   "source": [
    "def get_year(x):\n",
    "    if x is not None and type(x) is not float:\n",
    "        try:\n",
    "            return dt.strptime(x, '%d-%b-%y').year\n",
    "        except ValueError:\n",
    "            return dt.strptime(x, '%d-%b-%y %H:%M:%S').year\n",
    "    else:\n",
    "        return None\n",
    "    pass"
   ]
  },
  {
   "cell_type": "code",
   "execution_count": 181,
   "metadata": {},
   "outputs": [],
   "source": [
    "def get_month(x):\n",
    "    if x is not None and type(x) is not float:\n",
    "        try:\n",
    "            return dt.strptime(x,'%d-%b-%y').month\n",
    "        except ValueError:\n",
    "            return dt.strptime(x,'%d-%m-%y %H:%M:%S').month\n",
    "    else:\n",
    "        return None\n",
    "    pass"
   ]
  },
  {
   "cell_type": "code",
   "execution_count": 182,
   "metadata": {},
   "outputs": [],
   "source": [
    "df['Application_year'] = pd.Series(df['Application Date'], index = df.index)\n",
    "df['Application_month'] = pd.Series(df['Application Date'], index = df.index)\n",
    "df.Application_year = df['Application Date'].apply(lambda x : get_year(x))\n",
    "df.Application_month = df['Application Date'].apply(lambda x : get_month(x))\n",
    "df.drop('Application Date',axis =1 ,inplace = True)"
   ]
  },
  {
   "cell_type": "code",
   "execution_count": 183,
   "metadata": {
    "scrolled": true
   },
   "outputs": [
    {
     "data": {
      "image/png": "[encoded data removed]",
      "text/plain": [
       "<Figure size 432x288 with 1 Axes>"
      ]
     },
     "metadata": {},
     "output_type": "display_data"
    }
   ],
   "source": [
    "s= df['State Province'].value_counts()[:20]\n",
    "s.plot.bar()\n",
    "plt.show()"
   ]
  },
  {
   "cell_type": "markdown",
   "metadata": {},
   "source": [
    "* Dropping Major Description Features Looks like its has less relevance "
   ]
  },
  {
   "cell_type": "markdown",
   "metadata": {},
   "source": [
    "Top 20 State addmission wise , Pennsylvania has highest no addmision Application filled"
   ]
  },
  {
   "cell_type": "code",
   "execution_count": 184,
   "metadata": {},
   "outputs": [
    {
     "data": {
      "image/png": "[encoded data removed]",
      "text/plain": [
       "<Figure size 432x288 with 1 Axes>"
      ]
     },
     "metadata": {},
     "output_type": "display_data"
    }
   ],
   "source": [
    "s= df['Admissions Population Description'].value_counts()\n",
    "s.plot.bar()\n",
    "plt.show()"
   ]
  },
  {
   "cell_type": "markdown",
   "metadata": {},
   "source": [
    "* As We can see that Tranfer and Bridge has only 2 and 1 data point respectively so better to remove this two features\n",
    "* Setting class thresholds"
   ]
  },
  {
   "cell_type": "code",
   "execution_count": 185,
   "metadata": {},
   "outputs": [],
   "source": [
    "Admission_Populatio_drop = df[(df['Admissions Population Description']=='Transfer') | (df['Admissions Population Description']=='Bridge')]"
   ]
  },
  {
   "cell_type": "code",
   "execution_count": 186,
   "metadata": {},
   "outputs": [],
   "source": [
    "df.drop(Admission_Populatio_drop.index, axis=0,inplace=True)"
   ]
  },
  {
   "cell_type": "code",
   "execution_count": 187,
   "metadata": {},
   "outputs": [
    {
     "data": {
      "image/png": "[encoded data removed]",
      "text/plain": [
       "<Figure size 432x288 with 3 Axes>"
      ]
     },
     "metadata": {},
     "output_type": "display_data"
    }
   ],
   "source": [
    "data = df[['Student Population','Admitted']]\n",
    "mosaic(data,['Student Population','Admitted']);"
   ]
  },
  {
   "cell_type": "markdown",
   "metadata": {},
   "source": [
    "As We can observed that Most of students are Full time but Application rejection in Full time student are high compare to Transfer Student."
   ]
  },
  {
   "cell_type": "code",
   "execution_count": 188,
   "metadata": {},
   "outputs": [
    {
     "data": {
      "text/plain": [
       "Live on-campus (Resident)    38409\n",
       "Commuter                       952\n",
       "Undeclared                      66\n",
       "Local Community                  5\n",
       "Local Community                  3\n",
       "International                    3\n",
       "Name: Residency Description, dtype: int64"
      ]
     },
     "execution_count": 188,
     "metadata": {},
     "output_type": "execute_result"
    }
   ],
   "source": [
    "df['Residency Description'].value_counts()"
   ]
  },
  {
   "cell_type": "markdown",
   "metadata": {},
   "source": [
    "* Minority Class Converting in one class"
   ]
  },
  {
   "cell_type": "code",
   "execution_count": 189,
   "metadata": {},
   "outputs": [],
   "source": [
    "df['Residency Description'].replace(to_replace='International', value='other', regex=True,inplace=True);\n",
    "df['Residency Description'].replace(to_replace='Undeclared', value='other', regex=True,inplace=True);\n",
    "df['Residency Description'].replace(to_replace='Local Community', value='other', regex=True,inplace=True);\n",
    "df['Residency Description'].replace(to_replace='Local Community ', value= 'other', regex=True,inplace=True);\n",
    "df_drop = df[df['Residency Description']=='other ']\n",
    "df.drop(df_drop.index, axis=0,inplace=True)"
   ]
  },
  {
   "cell_type": "markdown",
   "metadata": {},
   "source": [
    "\n",
    "# Gender-Wise Distribtutions"
   ]
  },
  {
   "cell_type": "code",
   "execution_count": 190,
   "metadata": {},
   "outputs": [
    {
     "data": {
      "image/png": "[encoded data removed]",
      "text/plain": [
       "<Figure size 432x288 with 3 Axes>"
      ]
     },
     "metadata": {},
     "output_type": "display_data"
    }
   ],
   "source": [
    "data = df[['Gender','Admitted']]\n",
    "mosaic(data,['Gender','Admitted']);"
   ]
  },
  {
   "cell_type": "markdown",
   "metadata": {},
   "source": [
    "!!! Prefect Distribution with This Features Male & Female have almost same ratio of Addmission and Addmission"
   ]
  },
  {
   "cell_type": "markdown",
   "metadata": {},
   "source": [
    "# Outlier Detection in GPA grade"
   ]
  },
  {
   "cell_type": "code",
   "execution_count": 191,
   "metadata": {},
   "outputs": [
    {
     "name": "stdout",
     "output_type": "stream",
     "text": [
      "Total Percent in Null values in Grades 8.657723226739025\n"
     ]
    }
   ],
   "source": [
    "print(\"Total Percent in Null values in Grades\",(df['High School GPA'].isnull().sum()/df.shape[0])*100)"
   ]
  },
  {
   "cell_type": "code",
   "execution_count": 192,
   "metadata": {},
   "outputs": [
    {
     "data": {
      "image/png": "[encoded data removed]",
      "text/plain": [
       "<Figure size 432x288 with 1 Axes>"
      ]
     },
     "metadata": {},
     "output_type": "display_data"
    }
   ],
   "source": [
    "GPA = pd.Series(df['High School GPA'])\n",
    "GPA.plot.hist(grid=True, bins=30, rwidth=0.9,\n",
    "                   color='#607c8e')\n",
    "plt.title('GPA Distribution')\n",
    "plt.xlabel('GPA')\n",
    "plt.ylabel('Total Number of Student')\n",
    "plt.grid(axis='y', alpha=0.75)"
   ]
  },
  {
   "cell_type": "code",
   "execution_count": 193,
   "metadata": {},
   "outputs": [
    {
     "data": {
      "text/plain": [
       "<matplotlib.axes._subplots.AxesSubplot at 0x1f0115abba8>"
      ]
     },
     "execution_count": 193,
     "metadata": {},
     "output_type": "execute_result"
    },
    {
     "data": {
      "image/png": "[encoded data removed]",
      "text/plain": [
       "<Figure size 432x288 with 1 Axes>"
      ]
     },
     "metadata": {},
     "output_type": "display_data"
    }
   ],
   "source": [
    "sns.boxplot(x=df['High School GPA'])"
   ]
  },
  {
   "cell_type": "code",
   "execution_count": 194,
   "metadata": {},
   "outputs": [],
   "source": [
    "def remove_outlier(df, col_name):\n",
    "    q1 = df[col_name].quantile(0.25)\n",
    "    q3 = df[col_name].quantile(0.75)\n",
    "    iqr = q3-q1 #Interquartile range\n",
    "    iqr_low  = q1-1.5*iqr\n",
    "    iqr_high = q3+1.5*iqr\n",
    "    df = df.loc[(df[col_name] > iqr_low) & (df[col_name] < iqr_high)]\n",
    "    return df"
   ]
  },
  {
   "cell_type": "code",
   "execution_count": 195,
   "metadata": {},
   "outputs": [],
   "source": [
    "df = remove_outlier(df,'High School GPA')"
   ]
  },
  {
   "cell_type": "code",
   "execution_count": 196,
   "metadata": {},
   "outputs": [],
   "source": [
    "GPA_median = df['High School GPA'].median()"
   ]
  },
  {
   "cell_type": "markdown",
   "metadata": {},
   "source": [
    "~ 9% values are Null so we can impute this columns with Median of Grade"
   ]
  },
  {
   "cell_type": "code",
   "execution_count": 197,
   "metadata": {},
   "outputs": [
    {
     "data": {
      "text/plain": [
       "0"
      ]
     },
     "execution_count": 197,
     "metadata": {},
     "output_type": "execute_result"
    }
   ],
   "source": [
    "df['High School GPA'].fillna(GPA_median,inplace=True)\n",
    "df['High School GPA'].isnull().sum()"
   ]
  },
  {
   "cell_type": "code",
   "execution_count": 198,
   "metadata": {},
   "outputs": [
    {
     "data": {
      "image/png": "[encoded data removed]",
      "text/plain": [
       "<Figure size 432x288 with 1 Axes>"
      ]
     },
     "metadata": {},
     "output_type": "display_data"
    }
   ],
   "source": [
    "GPA = pd.Series(df['High School GPA'])\n",
    "GPA.plot.hist(grid=True, bins=30, rwidth=0.9,\n",
    "                   color='green')\n",
    "plt.title('GPA Distribution')\n",
    "plt.xlabel('GPA')\n",
    "plt.ylabel('Total Number of Student')\n",
    "plt.grid(axis='y', alpha=0.75)"
   ]
  },
  {
   "cell_type": "markdown",
   "metadata": {},
   "source": [
    "Grade Distribution looks fine !! No Need to perfromed Transformation For normal Distribution"
   ]
  },
  {
   "cell_type": "markdown",
   "metadata": {},
   "source": [
    "# Institute Aid offer : US University Assist Student Financially\n",
    "* Check for Null values"
   ]
  },
  {
   "cell_type": "code",
   "execution_count": 199,
   "metadata": {
    "scrolled": true
   },
   "outputs": [
    {
     "data": {
      "image/png": "[encoded data removed]",
      "text/plain": [
       "<Figure size 432x288 with 1 Axes>"
      ]
     },
     "metadata": {},
     "output_type": "display_data"
    }
   ],
   "source": [
    "GPA = pd.Series(df['Institutional Aid Offered'])\n",
    "GPA.plot.hist(grid=True, bins=30, rwidth=0.9,\n",
    "                   color='blue')\n",
    "plt.title('Institute Aid Offer')\n",
    "plt.xlabel('Aid')\n",
    "plt.ylabel('Total Number of Student')\n",
    "plt.grid(axis='y', alpha=0.75)"
   ]
  },
  {
   "cell_type": "markdown",
   "metadata": {},
   "source": [
    "* Data looks normally distributed and skewed"
   ]
  },
  {
   "cell_type": "code",
   "execution_count": 200,
   "metadata": {},
   "outputs": [
    {
     "name": "stdout",
     "output_type": "stream",
     "text": [
      "Total Null Values 37.74%\n"
     ]
    }
   ],
   "source": [
    "print(\"Total Null Values {:.2f}%\".format(df['Institutional Aid Offered'].isnull().sum()/df.shape[0]*100))"
   ]
  },
  {
   "cell_type": "markdown",
   "metadata": {},
   "source": [
    "* ~38 % Value is missing , which mean either data is not recorded or student not apply for aid or not qualified for that.\n",
    "* Let's Check for how much % Student apply for Any kind financial assistance and data is missing "
   ]
  },
  {
   "cell_type": "code",
   "execution_count": 201,
   "metadata": {},
   "outputs": [
    {
     "name": "stdout",
     "output_type": "stream",
     "text": [
      " Total null values where student not apply for any aid and also didn't get aid 88.08%\n"
     ]
    }
   ],
   "source": [
    "print(\" Total null values where student not apply for any aid and also didn't get aid {:.2f}%\".format(df[(df['Institutional Aid Offered'].isnull()==True) & (df['Need-Based Financial Aid']==0) & (df['Merit-Based Financial Aid']==0)].shape[0]/df[(df['Institutional Aid Offered'].isnull() ==True)].shape[0]*100))"
   ]
  },
  {
   "cell_type": "markdown",
   "metadata": {},
   "source": [
    "* Point Note from Here is In The Missing Values of above feature ~88% values are those values in which student did no\n",
    "  apply for any kind of Aid Which mean data is not available\n",
    "* Fiiling missing value with 0 is best option"
   ]
  },
  {
   "cell_type": "code",
   "execution_count": 202,
   "metadata": {},
   "outputs": [],
   "source": [
    "df['Institutional Aid Offered'].fillna(0,inplace = True)"
   ]
  },
  {
   "cell_type": "markdown",
   "metadata": {},
   "source": [
    "# Sport, Enrollment & Financial Aid Relationship"
   ]
  },
  {
   "cell_type": "code",
   "execution_count": 203,
   "metadata": {},
   "outputs": [],
   "source": [
    "data = df[['Admissions Athlete','Enrolled']]"
   ]
  },
  {
   "cell_type": "code",
   "execution_count": 204,
   "metadata": {},
   "outputs": [
    {
     "data": {
      "image/png": "[encoded data removed]",
      "text/plain": [
       "<Figure size 432x288 with 3 Axes>"
      ]
     },
     "metadata": {},
     "output_type": "display_data"
    }
   ],
   "source": [
    "mosaic(data,['Admissions Athlete','Enrolled']);"
   ]
  },
  {
   "cell_type": "markdown",
   "metadata": {},
   "source": [
    "Note\n",
    "* ~5-10% Student has applied for Athlete addmission\n",
    "* ~ 50 % Get addmission in univerity"
   ]
  },
  {
   "cell_type": "markdown",
   "metadata": {},
   "source": [
    "* Financial Help "
   ]
  },
  {
   "cell_type": "code",
   "execution_count": 205,
   "metadata": {},
   "outputs": [
    {
     "name": "stdout",
     "output_type": "stream",
     "text": [
      "Total No Student who applied Need- Based Financial aid is 8587\n"
     ]
    }
   ],
   "source": [
    "print(\"Total No Student who applied Need- Based Financial aid is {}\".format\n",
    "      (df[(df['Need-Based Financial Aid'])==1].shape[0]))"
   ]
  },
  {
   "cell_type": "code",
   "execution_count": 206,
   "metadata": {},
   "outputs": [
    {
     "name": "stdout",
     "output_type": "stream",
     "text": [
      "Total No Student who applied Merit-Based Financial Aid is 8392\n"
     ]
    }
   ],
   "source": [
    "print(\"Total No Student who applied Merit-Based Financial Aid is {}\".format\n",
    "      (df[(df['Merit-Based Financial Aid'])==1].shape[0]))"
   ]
  },
  {
   "cell_type": "code",
   "execution_count": 207,
   "metadata": {},
   "outputs": [
    {
     "data": {
      "image/png": "[encoded data removed]",
      "text/plain": [
       "<Figure size 432x288 with 3 Axes>"
      ]
     },
     "metadata": {},
     "output_type": "display_data"
    }
   ],
   "source": [
    "data = df[['Merit-Based Financial Aid','Admitted']]\n",
    "mosaic(data,['Merit-Based Financial Aid','Admitted']);"
   ]
  },
  {
   "cell_type": "markdown",
   "metadata": {},
   "source": [
    "# ACT and SAT Score Feature Engineering"
   ]
  },
  {
   "cell_type": "markdown",
   "metadata": {},
   "source": [
    "Note\n",
    "* Student should appear in one of Entrance Exam or student can appear in both exams\n",
    "* Addmission should based on Your score of entrance exam\n"
   ]
  },
  {
   "cell_type": "markdown",
   "metadata": {},
   "source": [
    "How Strategy Works\n",
    "* PCA is Best Technique For reducing Dim\n",
    "* Applying PCA into All score\n",
    "* Choose most explained PCA component"
   ]
  },
  {
   "cell_type": "markdown",
   "metadata": {},
   "source": [
    "# PCA Analysis"
   ]
  },
  {
   "cell_type": "code",
   "execution_count": 208,
   "metadata": {},
   "outputs": [],
   "source": [
    "indi_subject = ['Act English','Act Math','Act Reading','Act Science Reasoning','Sat Verbal','Sat Mathematics','Act Composite','Sat Total Score']"
   ]
  },
  {
   "cell_type": "code",
   "execution_count": 209,
   "metadata": {},
   "outputs": [],
   "source": [
    "df1 = df[indi_subject]\n",
    "df1.fillna(0,inplace=True)\n",
    "scaler = StandardScaler()\n",
    "scaler.fit(df1)\n",
    "scaled_data =scaler.transform(df1)"
   ]
  },
  {
   "cell_type": "code",
   "execution_count": 210,
   "metadata": {},
   "outputs": [
    {
     "name": "stdout",
     "output_type": "stream",
     "text": [
      "Explained variance with 1 component is 64.82%\n",
      "Explained variance with 2 component is 92.63%\n",
      "Explained variance with 3 component is 96.00%\n",
      "Explained variance with 4 component is 97.99%\n",
      "Explained variance with 5 component is 99.58%\n",
      "Explained variance with 6 component is 99.83%\n",
      "Explained variance with 7 component is 99.95%\n",
      "Explained variance with 8 component is 100.00%\n"
     ]
    }
   ],
   "source": [
    "pca = PCA()\n",
    "pca.fit(scaled_data)\n",
    "#x_pca = pca.transform(scaled_data)\n",
    "for i in range (0,len(pca.explained_variance_ratio_.cumsum())):\n",
    "    print(\"Explained variance with {} component is {:.2f}%\".format((i+1),pca.explained_variance_ratio_.cumsum()[i]*100))"
   ]
  },
  {
   "cell_type": "markdown",
   "metadata": {},
   "source": [
    "* https://etav.github.io/python/scikit_pca.html (For PCA graph)"
   ]
  },
  {
   "cell_type": "code",
   "execution_count": 211,
   "metadata": {},
   "outputs": [
    {
     "data": {
      "image/png": "[encoded data removed]",
      "text/plain": [
       "<Figure size 864x360 with 1 Axes>"
      ]
     },
     "metadata": {},
     "output_type": "display_data"
    }
   ],
   "source": [
    "\n",
    "fig, ax = plt.subplots(figsize=(12, 5))\n",
    "sns.set(font_scale=1)\n",
    "plt.step(range(scaled_data.shape[1]), (pca.explained_variance_ratio_.cumsum()*100), where='mid',\n",
    "         label='cumulative explained variance')\n",
    "sns.barplot(np.arange(1,scaled_data.shape[1]+1), (pca.explained_variance_ratio_*100), alpha=0.9, color = 'g',\n",
    "            label='individual explained variance',ax=ax)\n",
    "\n",
    "plt.xlim(0, 8)\n",
    "plt.ylabel('Explained variance in %', fontsize = 14)\n",
    "plt.xlabel('Principal components', fontsize = 14)\n",
    "plt.legend(loc='upper right', fontsize = 13);\n",
    "plt.show();\n"
   ]
  },
  {
   "cell_type": "markdown",
   "metadata": {},
   "source": [
    "# Result of PCA \n",
    "* 3 component of PCA can able to explain around ~ $97$% variance so best seletion of component is either 2 or 3."
   ]
  },
  {
   "cell_type": "code",
   "execution_count": 212,
   "metadata": {},
   "outputs": [],
   "source": [
    "pca = PCA(n_components=3)\n",
    "pca.fit(scaled_data)\n",
    "x_pca = pca.transform(scaled_data)"
   ]
  },
  {
   "cell_type": "code",
   "execution_count": 213,
   "metadata": {},
   "outputs": [],
   "source": [
    "x_pca = pd.DataFrame(x_pca,columns=['Score1','score2','score3'])\n",
    "df = df.join(x_pca,how='outer')"
   ]
  },
  {
   "cell_type": "code",
   "execution_count": 214,
   "metadata": {},
   "outputs": [],
   "source": [
    "# Removing all ACT and SAT Score\n",
    "df.drop(indi_subject,axis=1,inplace=True)"
   ]
  },
  {
   "cell_type": "markdown",
   "metadata": {},
   "source": [
    "Comment\n",
    "* We delete the all $3$ other Score Columns which can expalin 97% var of ACT and SAT score\n",
    "* Add Another Column Score which has standard Score"
   ]
  },
  {
   "cell_type": "markdown",
   "metadata": {},
   "source": [
    "# Checking Predictor class Balance"
   ]
  },
  {
   "cell_type": "code",
   "execution_count": 215,
   "metadata": {},
   "outputs": [
    {
     "name": "stdout",
     "output_type": "stream",
     "text": [
      "Admitted    27391\n",
      "Denied       8383\n",
      "Name: Admitted, dtype: int64\n"
     ]
    }
   ],
   "source": [
    "a =df['Admitted'].value_counts()\n",
    "print(a)"
   ]
  },
  {
   "cell_type": "code",
   "execution_count": 216,
   "metadata": {},
   "outputs": [
    {
     "name": "stdout",
     "output_type": "stream",
     "text": [
      "Total Admitted Class is 76.56678034326606\n"
     ]
    }
   ],
   "source": [
    "print(\"Total Admitted Class is {}\".format(a['Admitted']/(a['Admitted']+a['Denied'])*100))"
   ]
  },
  {
   "cell_type": "code",
   "execution_count": 217,
   "metadata": {},
   "outputs": [
    {
     "name": "stdout",
     "output_type": "stream",
     "text": [
      "Total Denied Class is 23.433219656733943\n"
     ]
    }
   ],
   "source": [
    "print(\"Total Denied Class is {}\".format(a['Denied']/(a['Admitted']+a['Denied'])*100))"
   ]
  },
  {
   "cell_type": "code",
   "execution_count": 218,
   "metadata": {},
   "outputs": [
    {
     "name": "stdout",
     "output_type": "stream",
     "text": [
      "Proportion: 3.27 : 1\n"
     ]
    }
   ],
   "source": [
    "print('Proportion:', round(a[0] / a[1], 2), ': 1')"
   ]
  },
  {
   "cell_type": "code",
   "execution_count": 219,
   "metadata": {
    "scrolled": true
   },
   "outputs": [
    {
     "data": {
      "text/plain": [
       "<matplotlib.axes._subplots.AxesSubplot at 0x1f00fa8fe80>"
      ]
     },
     "execution_count": 219,
     "metadata": {},
     "output_type": "execute_result"
    },
    {
     "data": {
      "image/png": "[encoded data removed]",
      "text/plain": [
       "<Figure size 432x288 with 1 Axes>"
      ]
     },
     "metadata": {},
     "output_type": "display_data"
    }
   ],
   "source": [
    "a.plot.bar()"
   ]
  },
  {
   "cell_type": "markdown",
   "metadata": {},
   "source": [
    "# Class Imbalance Comments\n",
    "* As we can  observe Proportion is $3.2$:$1$\n",
    "* So i don't observe any class imbalace problem(Condition apply)"
   ]
  },
  {
   "cell_type": "markdown",
   "metadata": {},
   "source": [
    "# Correlation and Heat Map\n",
    "# label Encoding"
   ]
  },
  {
   "cell_type": "code",
   "execution_count": 220,
   "metadata": {},
   "outputs": [],
   "source": [
    "encoder = LabelEncoder()"
   ]
  },
  {
   "cell_type": "code",
   "execution_count": 221,
   "metadata": {},
   "outputs": [],
   "source": [
    "df['State Province'] = encoder.fit_transform(df['State Province'].astype('str'))\n",
    "df['Admitted'] = encoder.fit_transform(df['Admitted'].astype('str'))\n",
    "df['Enrolled'] = encoder.fit_transform(df['Enrolled'].astype('str'))\n",
    "df['Gender'] = encoder.fit_transform(df['Gender'].astype('str'))\n",
    "df['Residency Description'] = encoder.fit_transform(df['Residency Description'].astype('str'))\n",
    "df['College Description'] = encoder.fit_transform(df['College Description'].astype('str'))\n",
    "df['Admissions Population Description'] = encoder.fit_transform(df['Admissions Population Description'].astype('str'))\n",
    "df['Student Population'] = encoder.fit_transform(df['Student Population'].astype('str'))"
   ]
  },
  {
   "cell_type": "code",
   "execution_count": 222,
   "metadata": {
    "scrolled": true
   },
   "outputs": [],
   "source": [
    "corr = df.corr()"
   ]
  },
  {
   "cell_type": "markdown",
   "metadata": {},
   "source": [
    "* https://seaborn.pydata.org/generated/seaborn.heatmap.html (Drawing Heat map)"
   ]
  },
  {
   "cell_type": "code",
   "execution_count": 223,
   "metadata": {},
   "outputs": [
    {
     "data": {
      "image/png": "[encoded data removed]",
      "text/plain": [
       "<Figure size 1008x648 with 2 Axes>"
      ]
     },
     "metadata": {},
     "output_type": "display_data"
    }
   ],
   "source": [
    "# Generate a mask for the upper triangle\n",
    "mask = np.zeros_like(corr, dtype=np.bool)\n",
    "mask[np.triu_indices_from(mask)] = True\n",
    "\n",
    "# Set up the matplotlib figure\n",
    "f, ax = plt.subplots(figsize=(14, 9))\n",
    "\n",
    "# Generate a custom diverging colormap\n",
    "cmap = sns.diverging_palette(220, 10, as_cmap=True)\n",
    "\n",
    "# Draw the heatmap with the mask and correct aspect ratio\n",
    "sns.heatmap(corr, mask=mask, cmap=cmap, vmax=.3, center=0,linecolor='white',\n",
    "            square=True, linewidths=.5, cbar_kws={\"shrink\": .5});"
   ]
  },
  {
   "cell_type": "markdown",
   "metadata": {},
   "source": [
    "# Checking output correlation"
   ]
  },
  {
   "cell_type": "markdown",
   "metadata": {},
   "source": [
    "Notes\n",
    "* Application Year has High Correlation with many Columns, so better to drop\n",
    "* Drop Merit based Financial Aid has High Correlation with Financial based"
   ]
  },
  {
   "cell_type": "code",
   "execution_count": 224,
   "metadata": {},
   "outputs": [],
   "source": [
    "df.isnull().sum()\n",
    "# Dropping all null values\n",
    "df.dropna(inplace=True)"
   ]
  },
  {
   "cell_type": "code",
   "execution_count": 225,
   "metadata": {
    "scrolled": false
   },
   "outputs": [],
   "source": [
    "Feature_drop = ['Academic Period_year','Merit-Based Financial Aid','Major Description']"
   ]
  },
  {
   "cell_type": "code",
   "execution_count": 226,
   "metadata": {},
   "outputs": [],
   "source": [
    "df.drop(Feature_drop,axis =1 ,inplace=True)"
   ]
  },
  {
   "cell_type": "markdown",
   "metadata": {},
   "source": [
    "# Model Building"
   ]
  },
  {
   "cell_type": "markdown",
   "metadata": {},
   "source": [
    "* Selection of independent variable and dependent variable"
   ]
  },
  {
   "cell_type": "code",
   "execution_count": 227,
   "metadata": {},
   "outputs": [],
   "source": [
    "# Dependent Variable selectio\n",
    "Y = np.array(df['Admitted'])"
   ]
  },
  {
   "cell_type": "code",
   "execution_count": 228,
   "metadata": {},
   "outputs": [],
   "source": [
    "# Indpendent variable\n",
    "Z = df\n",
    "Z.drop('Admitted',axis=1,inplace =True)\n",
    "X  = np.array(Z)"
   ]
  },
  {
   "cell_type": "markdown",
   "metadata": {},
   "source": [
    "# Test Train Split"
   ]
  },
  {
   "cell_type": "code",
   "execution_count": 229,
   "metadata": {},
   "outputs": [],
   "source": [
    "x_train,x_test,y_train,y_test=train_test_split(X,Y,test_size=0.3,random_state=27)"
   ]
  },
  {
   "cell_type": "markdown",
   "metadata": {},
   "source": [
    "# decision Tree Classifier"
   ]
  },
  {
   "cell_type": "code",
   "execution_count": 230,
   "metadata": {},
   "outputs": [
    {
     "name": "stdout",
     "output_type": "stream",
     "text": [
      " Accuarcy of Decision Tree 90.7289384584744 %\n"
     ]
    }
   ],
   "source": [
    "tree = DecisionTreeClassifier(random_state = 27)\n",
    "tree.fit(x_train,y_train)\n",
    "pred_holdout = tree.predict(x_test)\n",
    "print(\" Accuarcy of Decision Tree\",accuracy_score(y_test,pred_holdout)*100,'%')"
   ]
  },
  {
   "cell_type": "markdown",
   "metadata": {},
   "source": [
    "* https://chrisalbon.com/machine_learning/model_selection/hyperparameter_tuning_using_grid_search/ ( Help for model optimization)"
   ]
  },
  {
   "cell_type": "code",
   "execution_count": 231,
   "metadata": {},
   "outputs": [],
   "source": [
    "params = {'max_depth':np.arange(2,11),'min_samples_leaf':np.arange(2,11)}\n",
    "skf = StratifiedKFold(n_splits=5,shuffle=True,random_state = 27)\n",
    "best_tree = GridSearchCV(tree,param_grid=params,cv=5,n_jobs=-1,verbose=1)  # K=5, all job will run in parallel(use of all CPU core)"
   ]
  },
  {
   "cell_type": "code",
   "execution_count": 232,
   "metadata": {},
   "outputs": [
    {
     "name": "stdout",
     "output_type": "stream",
     "text": [
      "Fitting 5 folds for each of 81 candidates, totalling 405 fits\n"
     ]
    },
    {
     "name": "stderr",
     "output_type": "stream",
     "text": [
      "[Parallel(n_jobs=-1)]: Done  43 tasks      | elapsed:    7.3s\n",
      "[Parallel(n_jobs=-1)]: Done 343 tasks      | elapsed:   18.2s\n",
      "[Parallel(n_jobs=-1)]: Done 405 out of 405 | elapsed:   21.6s finished\n"
     ]
    },
    {
     "data": {
      "text/plain": [
       "GridSearchCV(cv=5, error_score='raise',\n",
       "       estimator=DecisionTreeClassifier(class_weight=None, criterion='gini', max_depth=None,\n",
       "            max_features=None, max_leaf_nodes=None,\n",
       "            min_impurity_decrease=0.0, min_impurity_split=None,\n",
       "            min_samples_leaf=1, min_samples_split=2,\n",
       "            min_weight_fraction_leaf=0.0, presort=False, random_state=27,\n",
       "            splitter='best'),\n",
       "       fit_params=None, iid=True, n_jobs=-1,\n",
       "       param_grid={'max_depth': array([ 2,  3,  4,  5,  6,  7,  8,  9, 10]), 'min_samples_leaf': array([ 2,  3,  4,  5,  6,  7,  8,  9, 10])},\n",
       "       pre_dispatch='2*n_jobs', refit=True, return_train_score='warn',\n",
       "       scoring=None, verbose=1)"
      ]
     },
     "execution_count": 232,
     "metadata": {},
     "output_type": "execute_result"
    }
   ],
   "source": [
    "best_tree.fit(x_train,y_train)"
   ]
  },
  {
   "cell_type": "code",
   "execution_count": 172,
   "metadata": {},
   "outputs": [
    {
     "name": "stdout",
     "output_type": "stream",
     "text": [
      " Accuracy using K-fold Validaation 92.50%\n"
     ]
    }
   ],
   "source": [
    "print(\" Accuracy using K-fold Validaation {:.2f}%\".format(np.mean(best_tree.best_score_*100)))"
   ]
  },
  {
   "cell_type": "code",
   "execution_count": 140,
   "metadata": {},
   "outputs": [
    {
     "name": "stdout",
     "output_type": "stream",
     "text": [
      "{'max_depth': 9, 'min_samples_leaf': 10}\n"
     ]
    }
   ],
   "source": [
    "print(best_tree.best_params_) #{'max_depth': 6, 'max_features': 17}"
   ]
  },
  {
   "cell_type": "markdown",
   "metadata": {},
   "source": [
    "# Learning curve defination"
   ]
  },
  {
   "cell_type": "markdown",
   "metadata": {},
   "source": [
    "* https://scikit-learn.org/stable/auto_examples/model_selection/plot_learning_curve.html ( Help for Drawaing Leaning Curve)"
   ]
  },
  {
   "cell_type": "code",
   "execution_count": 141,
   "metadata": {},
   "outputs": [],
   "source": [
    "def plot_learning_curve(estimator, title, X, y, ylim=None, cv=None,\n",
    "                        n_jobs=-1, train_sizes=np.linspace(.1, 1.0, 10)):\n",
    "    \"\"\"Generate a simple plot of the test and training learning curve\"\"\"\n",
    "    plt.figure()\n",
    "    plt.title(title)\n",
    "    if ylim is not None:\n",
    "        plt.ylim(*ylim)\n",
    "    plt.xlabel(\"Training examples\")\n",
    "    plt.ylabel(\"Score\")\n",
    "    train_sizes, train_scores, test_scores = learning_curve(\n",
    "        estimator, X, y, cv=cv, n_jobs=n_jobs, train_sizes=train_sizes)\n",
    "    train_scores_mean = np.mean(train_scores, axis=1)\n",
    "    train_scores_std = np.std(train_scores, axis=1)\n",
    "    test_scores_mean = np.mean(test_scores, axis=1)\n",
    "    test_scores_std = np.std(test_scores, axis=1)\n",
    "    plt.grid()\n",
    "\n",
    "    plt.fill_between(train_sizes, train_scores_mean - train_scores_std,\n",
    "                     train_scores_mean + train_scores_std, alpha=0.1, color=\"r\")\n",
    "    plt.fill_between(train_sizes, test_scores_mean - test_scores_std,\n",
    "                     test_scores_mean + test_scores_std, alpha=0.1, color=\"g\")\n",
    "    plt.plot(train_sizes, train_scores_mean, 'o-', color=\"r\", label=\"Training score\")\n",
    "    plt.plot(train_sizes, test_scores_mean, 'o-', color=\"g\", label=\"Cross-validation score\")\n",
    "\n",
    "    plt.legend(loc=\"best\")\n",
    "    return plt"
   ]
  },
  {
   "cell_type": "code",
   "execution_count": 142,
   "metadata": {},
   "outputs": [
    {
     "data": {
      "image/png": "[encoded data removed]",
      "text/plain": [
       "<Figure size 432x288 with 1 Axes>"
      ]
     },
     "metadata": {},
     "output_type": "display_data"
    }
   ],
   "source": [
    "g = plot_learning_curve(best_tree.best_estimator_,\n",
    "                        \"Decision tree learning curves\", x_train, y_train, ylim = [1.01, 0.6],\n",
    "                        cv = 5,  train_sizes = [0.05, 0.1, 0.2, 0.3, 0.4, 0.5,\n",
    "                                                0.6, 0.7, 0.8, 0.9, 1])"
   ]
  },
  {
   "cell_type": "markdown",
   "metadata": {},
   "source": [
    "# Classfication Report of decision tree"
   ]
  },
  {
   "cell_type": "code",
   "execution_count": 144,
   "metadata": {},
   "outputs": [
    {
     "name": "stdout",
     "output_type": "stream",
     "text": [
      "The Acccuary is 92.89%\n",
      "Confusion matrix report\n",
      "[[7310  405]\n",
      " [ 309 2018]]\n",
      "             precision    recall  f1-score   support\n",
      "\n",
      "          0       0.96      0.95      0.95      7715\n",
      "          1       0.83      0.87      0.85      2327\n",
      "\n",
      "avg / total       0.93      0.93      0.93     10042\n",
      "\n"
     ]
    }
   ],
   "source": [
    "print(\"The Acccuary is {:.2f}%\".format(accuracy_score(y_test, best_tree.predict(x_test))*100))\n",
    "print (\"Confusion matrix report\")\n",
    "print(confusion_matrix(y_test, best_tree.predict(x_test)))\n",
    "print(classification_report(y_test, best_tree.predict(x_test)))\n",
    "\n"
   ]
  },
  {
   "cell_type": "markdown",
   "metadata": {},
   "source": [
    "* On this curve, we can see that the train and cross-validation curves converge towards the same limit when the sample size increases. This is typical of modeling with low variance and proves that the model does not suffer from overfitting. Also, we can see that the accuracy of the training curve is correct which is synonymous of a low bias. Hence the model does not underfit the data."
   ]
  },
  {
   "cell_type": "markdown",
   "metadata": {},
   "source": [
    "# Random Forest Classification"
   ]
  },
  {
   "cell_type": "code",
   "execution_count": 237,
   "metadata": {},
   "outputs": [
    {
     "name": "stdout",
     "output_type": "stream",
     "text": [
      "Accuracy is 92.22 %\n"
     ]
    }
   ],
   "source": [
    "forest = RandomForestClassifier(n_estimators=100, n_jobs=-1, \n",
    "                                random_state=17)\n",
    "print(\"Accuracy is {:.2f} %\".format(np.mean(cross_val_score(forest, x_train, y_train, cv=5))*100))"
   ]
  },
  {
   "cell_type": "code",
   "execution_count": 238,
   "metadata": {},
   "outputs": [
    {
     "name": "stdout",
     "output_type": "stream",
     "text": [
      "Fitting 5 folds for each of 90 candidates, totalling 450 fits\n"
     ]
    },
    {
     "name": "stderr",
     "output_type": "stream",
     "text": [
      "[Parallel(n_jobs=-1)]: Done  42 tasks      | elapsed:   49.5s\n",
      "[Parallel(n_jobs=-1)]: Done 192 tasks      | elapsed:  4.1min\n",
      "[Parallel(n_jobs=-1)]: Done 442 tasks      | elapsed: 11.0min\n",
      "[Parallel(n_jobs=-1)]: Done 450 out of 450 | elapsed: 11.2min finished\n"
     ]
    },
    {
     "data": {
      "text/plain": [
       "({'max_depth': 10, 'max_features': 12}, 0.9281263337601365)"
      ]
     },
     "execution_count": 238,
     "metadata": {},
     "output_type": "execute_result"
    }
   ],
   "source": [
    "forest_params = {'max_depth': range(6, 12),\n",
    "                 'max_features': range(4, 19)}\n",
    "\n",
    "forest_grid = GridSearchCV(forest, forest_params,\n",
    "                           cv=5, n_jobs=-1, verbose=True)\n",
    "\n",
    "forest_grid.fit(x_train, y_train)\n",
    "\n",
    "forest_grid.best_params_, forest_grid.best_score_ # ({'max_depth': 9, 'max_features': 6}, 0.951)"
   ]
  },
  {
   "cell_type": "code",
   "execution_count": 240,
   "metadata": {
    "scrolled": true
   },
   "outputs": [
    {
     "data": {
      "image/png": "[encoded data removed]",
      "text/plain": [
       "<Figure size 432x288 with 1 Axes>"
      ]
     },
     "metadata": {},
     "output_type": "display_data"
    }
   ],
   "source": [
    "g = plot_learning_curve(forest_grid.best_estimator_,\n",
    "                        \"Random forest learning curves\", x_train, y_train, ylim = [1.01, 0.6],\n",
    "                        cv = 5,  train_sizes = [0.05, 0.1, 0.2, 0.3, 0.4, 0.5,\n",
    "                                                0.6, 0.7, 0.8, 0.9, 1])"
   ]
  },
  {
   "cell_type": "markdown",
   "metadata": {},
   "source": [
    "* On this curve, we can see that the train and cross-validation curves converge towards the same limit when the sample size increases. This is typical of modeling with low variance and proves that the model does not suffer from overfitting. Also, we can see that the accuracy of the training curve is correct which is synonymous of a low bias. Hence the model does not underfit the data."
   ]
  },
  {
   "cell_type": "markdown",
   "metadata": {},
   "source": [
    "# Classification report of Random forest"
   ]
  },
  {
   "cell_type": "code",
   "execution_count": 248,
   "metadata": {},
   "outputs": [
    {
     "name": "stdout",
     "output_type": "stream",
     "text": [
      "The Acccuary is 93.25%\n",
      "Confusion matrix report\n",
      "total number of correct prediction 9364 out of 10042\n",
      "\n",
      "\n",
      "[[7298  417]\n",
      " [ 261 2066]]\n",
      "\n",
      "\n",
      "             precision    recall  f1-score   support\n",
      "\n",
      "          0       0.97      0.95      0.96      7715\n",
      "          1       0.83      0.89      0.86      2327\n",
      "\n",
      "avg / total       0.93      0.93      0.93     10042\n",
      "\n"
     ]
    }
   ],
   "source": [
    "print(\"The Acccuary is {:.2f}%\".format(accuracy_score(y_test, forest_grid.predict(x_test))*100))\n",
    "print (\"Confusion matrix report\")\n",
    "RF_con = confusion_matrix(y_test, forest_grid.predict(x_test))\n",
    "print(\"total number of correct prediction {} out of {}\".format((RF_con[0][0]+RF_con[1][1]),RF_con.sum()))\n",
    "print(\"\\n\")\n",
    "print(confusion_matrix(y_test, forest_grid.predict(x_test)))\n",
    "print(\"\\n\")\n",
    "print(classification_report(y_test, forest_grid.predict(x_test)))"
   ]
  },
  {
   "cell_type": "markdown",
   "metadata": {},
   "source": [
    "# Logistic Regression"
   ]
  },
  {
   "cell_type": "code",
   "execution_count": 582,
   "metadata": {},
   "outputs": [
    {
     "name": "stdout",
     "output_type": "stream",
     "text": [
      "Fitting 10 folds for each of 20 candidates, totalling 200 fits\n"
     ]
    },
    {
     "name": "stderr",
     "output_type": "stream",
     "text": [
      "[Parallel(n_jobs=-1)]: Done  42 tasks      | elapsed:    6.2s\n",
      "[Parallel(n_jobs=-1)]: Done 192 tasks      | elapsed:   27.9s\n",
      "[Parallel(n_jobs=-1)]: Done 200 out of 200 | elapsed:   29.0s finished\n"
     ]
    },
    {
     "data": {
      "text/plain": [
       "({'C': 0.1, 'penalty': 'l1'}, 0.9032863849765258)"
      ]
     },
     "execution_count": 582,
     "metadata": {},
     "output_type": "execute_result"
    }
   ],
   "source": [
    "logreg=LogisticRegression()\n",
    "grid={\"C\":np.logspace(-3,3,10), \"penalty\":[\"l1\",\"l2\"]}\n",
    "logreg_cv=GridSearchCV(logreg,grid,cv=10,n_jobs=-1,verbose=1)\n",
    "logreg_cv.fit(x_train,y_train)\n",
    "logreg_cv.best_params_, logreg_cv.best_score_"
   ]
  },
  {
   "cell_type": "code",
   "execution_count": 583,
   "metadata": {},
   "outputs": [
    {
     "data": {
      "image/png": "[encoded data removed]",
      "text/plain": [
       "<Figure size 432x288 with 1 Axes>"
      ]
     },
     "metadata": {},
     "output_type": "display_data"
    }
   ],
   "source": [
    "g = plot_learning_curve(logreg_cv.best_estimator_,\n",
    "                        \"Logistic Regression learning curves\", x_train, y_train, ylim = [1.01, 0.6],\n",
    "                        cv = 5,  train_sizes = [0.05, 0.1, 0.2, 0.3, 0.4, 0.5,\n",
    "                                                0.6, 0.7, 0.8, 0.9, 1])"
   ]
  },
  {
   "cell_type": "markdown",
   "metadata": {},
   "source": [
    "# Classification Report of Logistic Regression"
   ]
  },
  {
   "cell_type": "code",
   "execution_count": 584,
   "metadata": {},
   "outputs": [
    {
     "name": "stdout",
     "output_type": "stream",
     "text": [
      "The Acccuary is 90.97%\n",
      "Confusion matrix report\n",
      "total number of correct prediction 9135 out of 10042\n",
      "\n",
      "\n",
      "[[7243  472]\n",
      " [ 435 1892]]\n",
      "\n",
      "\n",
      "             precision    recall  f1-score   support\n",
      "\n",
      "          0       0.94      0.94      0.94      7715\n",
      "          1       0.80      0.81      0.81      2327\n",
      "\n",
      "avg / total       0.91      0.91      0.91     10042\n",
      "\n"
     ]
    }
   ],
   "source": [
    "print(\"The Acccuary is {:.2f}%\".format(accuracy_score(y_test, logreg_cv.predict(x_test))*100))\n",
    "print (\"Confusion matrix report\")\n",
    "LR_con = confusion_matrix(y_test, logreg_cv.predict(x_test))\n",
    "print(\"total number of correct prediction {} out of {}\".format((LR_con[0][0]+LR_con[1][1]),LR_con.sum()))\n",
    "print(\"\\n\")\n",
    "print(confusion_matrix(y_test, logreg_cv.predict(x_test)))\n",
    "print(\"\\n\")\n",
    "print(classification_report(y_test, logreg_cv.predict(x_test)))"
   ]
  },
  {
   "cell_type": "markdown",
   "metadata": {},
   "source": [
    "# Support Vector Machine classifier"
   ]
  },
  {
   "cell_type": "code",
   "execution_count": 585,
   "metadata": {},
   "outputs": [
    {
     "name": "stdout",
     "output_type": "stream",
     "text": [
      "Fitting 5 folds for each of 10 candidates, totalling 50 fits\n"
     ]
    },
    {
     "name": "stderr",
     "output_type": "stream",
     "text": [
      "[Parallel(n_jobs=-1)]: Done  42 tasks      | elapsed:  1.1min\n",
      "[Parallel(n_jobs=-1)]: Done  50 out of  50 | elapsed:  1.2min finished\n"
     ]
    },
    {
     "data": {
      "text/plain": [
       "({'C': 2.154434690031882}, 0.8286384976525821)"
      ]
     },
     "execution_count": 585,
     "metadata": {},
     "output_type": "execute_result"
    }
   ],
   "source": [
    "svc = LinearSVC()\n",
    "grid={\"C\":np.logspace(-3,3,10)}\n",
    "svm_cv=GridSearchCV(svc,grid,cv=5,n_jobs=-1,verbose=1)\n",
    "svm_cv.fit(x_train,y_train)\n",
    "svm_cv.best_params_, svm_cv.best_score_"
   ]
  },
  {
   "cell_type": "code",
   "execution_count": 586,
   "metadata": {},
   "outputs": [
    {
     "data": {
      "image/png": "[encoded data removed]",
      "text/plain": [
       "<Figure size 432x288 with 1 Axes>"
      ]
     },
     "metadata": {},
     "output_type": "display_data"
    }
   ],
   "source": [
    "g = plot_learning_curve(svm_cv.best_estimator_,\n",
    "                        \"Support vector Classifier learning curves\", x_train, y_train, ylim = [1.01, 0.6],\n",
    "                        cv = 5,  train_sizes = [0.05, 0.1, 0.2, 0.3, 0.4, 0.5,\n",
    "                                                0.6, 0.7, 0.8, 0.9, 1])"
   ]
  },
  {
   "cell_type": "markdown",
   "metadata": {},
   "source": [
    "# Support vector Classifier Report"
   ]
  },
  {
   "cell_type": "code",
   "execution_count": 587,
   "metadata": {},
   "outputs": [
    {
     "name": "stdout",
     "output_type": "stream",
     "text": [
      "The Acccuary is 90.04%\n",
      "Confusion matrix report\n",
      "total number of correct prediction 9042 out of 10042\n",
      "\n",
      "\n",
      "[[7174  541]\n",
      " [ 459 1868]]\n",
      "\n",
      "\n",
      "             precision    recall  f1-score   support\n",
      "\n",
      "          0       0.94      0.93      0.93      7715\n",
      "          1       0.78      0.80      0.79      2327\n",
      "\n",
      "avg / total       0.90      0.90      0.90     10042\n",
      "\n"
     ]
    }
   ],
   "source": [
    "print(\"The Acccuary is {:.2f}%\".format(accuracy_score(y_test, svm_cv.predict(x_test))*100))\n",
    "print (\"Confusion matrix report\")\n",
    "SV_con = confusion_matrix(y_test, svm_cv.predict(x_test))\n",
    "print(\"total number of correct prediction {} out of {}\".format((SV_con[0][0]+SV_con[1][1]),SV_con.sum()))\n",
    "print(\"\\n\")\n",
    "print(confusion_matrix(y_test, svm_cv.predict(x_test)))\n",
    "print(\"\\n\")\n",
    "print(classification_report(y_test, svm_cv.predict(x_test)))"
   ]
  },
  {
   "cell_type": "markdown",
   "metadata": {},
   "source": [
    "# AdaBoost Classifier"
   ]
  },
  {
   "cell_type": "code",
   "execution_count": 588,
   "metadata": {},
   "outputs": [
    {
     "name": "stdout",
     "output_type": "stream",
     "text": [
      "Fitting 10 folds for each of 10 candidates, totalling 100 fits\n"
     ]
    },
    {
     "name": "stderr",
     "output_type": "stream",
     "text": [
      "[Parallel(n_jobs=-1)]: Done  42 tasks      | elapsed:   15.4s\n",
      "[Parallel(n_jobs=-1)]: Done 100 out of 100 | elapsed:  1.2min finished\n"
     ]
    },
    {
     "data": {
      "text/plain": [
       "({'n_estimators': 50}, 0.8286384976525821)"
      ]
     },
     "execution_count": 588,
     "metadata": {},
     "output_type": "execute_result"
    }
   ],
   "source": [
    "ada = AdaBoostClassifier()\n",
    "grid = {'n_estimators' : [10, 20, 30, 40, 50, 60, 70, 80, 90, 100]}\n",
    "ada_cv=GridSearchCV(ada,grid,cv=10,n_jobs=-1,verbose=1)\n",
    "ada_cv.fit(x_train,y_train)\n",
    "ada_cv.best_params_, svm_cv.best_score_"
   ]
  },
  {
   "cell_type": "code",
   "execution_count": 589,
   "metadata": {},
   "outputs": [
    {
     "data": {
      "image/png": "[encoded data removed]",
      "text/plain": [
       "<Figure size 432x288 with 1 Axes>"
      ]
     },
     "metadata": {},
     "output_type": "display_data"
    }
   ],
   "source": [
    "g = plot_learning_curve(ada_cv.best_estimator_,\n",
    "                        \"AdaBoost learning curves\", x_train, y_train, ylim = [1.01, 0.6],\n",
    "                        cv = 5,  train_sizes = [0.05, 0.1, 0.2, 0.3, 0.4, 0.5,\n",
    "                                                0.6, 0.7, 0.8, 0.9, 1])"
   ]
  },
  {
   "cell_type": "markdown",
   "metadata": {},
   "source": [
    "# Adaboost Classifier Report"
   ]
  },
  {
   "cell_type": "code",
   "execution_count": 590,
   "metadata": {
    "scrolled": true
   },
   "outputs": [
    {
     "name": "stdout",
     "output_type": "stream",
     "text": [
      "The Acccuary is 92.51%\n",
      "Confusion matrix report\n",
      "total number of correct prediction 9290 out of 10042\n",
      "\n",
      "\n",
      "[[7325  390]\n",
      " [ 362 1965]]\n",
      "\n",
      "\n",
      "             precision    recall  f1-score   support\n",
      "\n",
      "          0       0.95      0.95      0.95      7715\n",
      "          1       0.83      0.84      0.84      2327\n",
      "\n",
      "avg / total       0.93      0.93      0.93     10042\n",
      "\n"
     ]
    }
   ],
   "source": [
    "print(\"The Acccuary is {:.2f}%\".format(accuracy_score(y_test, ada_cv.predict(x_test))*100))\n",
    "print (\"Confusion matrix report\")\n",
    "ada_con = confusion_matrix(y_test, ada_cv.predict(x_test))\n",
    "print(\"total number of correct prediction {} out of {}\".format((ada_con[0][0]+ada_con[1][1]),ada_con.sum()))\n",
    "print(\"\\n\")\n",
    "print(confusion_matrix(y_test, ada_cv.predict(x_test)))\n",
    "print(\"\\n\")\n",
    "print(classification_report(y_test, ada_cv.predict(x_test)))"
   ]
  },
  {
   "cell_type": "markdown",
   "metadata": {},
   "source": [
    "# XG Boost Classifier"
   ]
  },
  {
   "cell_type": "markdown",
   "metadata": {},
   "source": [
    "* https://scikit-learn.org/stable/modules/generated/sklearn.ensemble.GradientBoostingClassifier.html (Understanding XG Boost)"
   ]
  },
  {
   "cell_type": "code",
   "execution_count": 62,
   "metadata": {},
   "outputs": [],
   "source": [
    "parameters = {\n",
    "    \"learning_rate\": [ 0.1, 0.2],\n",
    "    \"min_samples_leaf\": np.arange(3,10),\n",
    "    \"max_depth\":np.arange(3,10),\n",
    "    \"n_estimators\":[10]\n",
    "    }\n",
    "\n"
   ]
  },
  {
   "cell_type": "code",
   "execution_count": 63,
   "metadata": {},
   "outputs": [],
   "source": [
    "XGB = GradientBoostingClassifier()\n",
    "clf = GridSearchCV(GradientBoostingClassifier(), parameters, cv=5, n_jobs=-1,verbose=1)"
   ]
  },
  {
   "cell_type": "code",
   "execution_count": 64,
   "metadata": {},
   "outputs": [
    {
     "name": "stdout",
     "output_type": "stream",
     "text": [
      "Fitting 5 folds for each of 98 candidates, totalling 490 fits\n"
     ]
    },
    {
     "name": "stderr",
     "output_type": "stream",
     "text": [
      "[Parallel(n_jobs=-1)]: Done  42 tasks      | elapsed:    9.9s\n",
      "[Parallel(n_jobs=-1)]: Done 192 tasks      | elapsed:  1.2min\n",
      "[Parallel(n_jobs=-1)]: Done 442 tasks      | elapsed:  3.0min\n",
      "[Parallel(n_jobs=-1)]: Done 490 out of 490 | elapsed:  3.6min finished\n"
     ]
    },
    {
     "data": {
      "text/plain": [
       "GridSearchCV(cv=5, error_score='raise',\n",
       "       estimator=GradientBoostingClassifier(criterion='friedman_mse', init=None,\n",
       "              learning_rate=0.1, loss='deviance', max_depth=3,\n",
       "              max_features=None, max_leaf_nodes=None,\n",
       "              min_impurity_decrease=0.0, min_impurity_split=None,\n",
       "              min_samples_leaf=1, min_samples_split=2,\n",
       "              min_weight_fraction_leaf=0.0, n_estimators=100,\n",
       "              presort='auto', random_state=None, subsample=1.0, verbose=0,\n",
       "              warm_start=False),\n",
       "       fit_params=None, iid=True, n_jobs=-1,\n",
       "       param_grid={'learning_rate': [0.1, 0.2], 'min_samples_leaf': array([3, 4, 5, 6, 7, 8, 9]), 'max_depth': array([3, 4, 5, 6, 7, 8, 9]), 'n_estimators': [10]},\n",
       "       pre_dispatch='2*n_jobs', refit=True, return_train_score='warn',\n",
       "       scoring=None, verbose=1)"
      ]
     },
     "execution_count": 64,
     "metadata": {},
     "output_type": "execute_result"
    }
   ],
   "source": [
    "clf.fit(x_train,y_train)"
   ]
  },
  {
   "cell_type": "code",
   "execution_count": 66,
   "metadata": {},
   "outputs": [
    {
     "data": {
      "image/png": "[encoded data removed]",
      "text/plain": [
       "<Figure size 432x288 with 1 Axes>"
      ]
     },
     "metadata": {},
     "output_type": "display_data"
    }
   ],
   "source": [
    "g = plot_learning_curve(clf.best_estimator_,\n",
    "                        \"XGBoost learning curves\", x_train, y_train, ylim = [1.01, 0.6],\n",
    "                        cv = 5,  train_sizes = [0.05, 0.1, 0.2, 0.3, 0.4, 0.5,\n",
    "                                                0.6, 0.7, 0.8, 0.9, 1])"
   ]
  },
  {
   "cell_type": "markdown",
   "metadata": {},
   "source": [
    "# XG Boost Classification Report"
   ]
  },
  {
   "cell_type": "code",
   "execution_count": 71,
   "metadata": {},
   "outputs": [
    {
     "name": "stdout",
     "output_type": "stream",
     "text": [
      "The Acccuary is 93.28%\n",
      "Confusion matrix report\n",
      "[[7317  398]\n",
      " [ 277 2050]]\n",
      "total number of correct prediction 9367 out of 10042\n",
      "\n",
      "\n",
      "[[7317  398]\n",
      " [ 277 2050]]\n",
      "\n",
      "\n",
      "             precision    recall  f1-score   support\n",
      "\n",
      "          0       0.96      0.95      0.96      7715\n",
      "          1       0.84      0.88      0.86      2327\n",
      "\n",
      "avg / total       0.93      0.93      0.93     10042\n",
      "\n"
     ]
    }
   ],
   "source": [
    "print(\"The Acccuary is {:.2f}%\".format(accuracy_score(y_test, clf.predict(x_test))*100))\n",
    "print (\"Confusion matrix report\")\n",
    "xg_con = confusion_matrix(y_test, clf.predict(x_test))\n",
    "print(xg_con)\n",
    "print(\"total number of correct prediction {} out of {}\".format((xg_con[0][0]+xg_con[1][1]),xg_con.sum()))\n",
    "print(\"\\n\")\n",
    "print(confusion_matrix(y_test, clf.predict(x_test)))\n",
    "print(\"\\n\")\n",
    "print(classification_report(y_test, clf.predict(x_test)))"
   ]
  },
  {
   "cell_type": "markdown",
   "metadata": {},
   "source": [
    "# Let Vote All algorithms"
   ]
  },
  {
   "cell_type": "code",
   "execution_count": 256,
   "metadata": {},
   "outputs": [
    {
     "name": "stdout",
     "output_type": "stream",
     "text": [
      "LR: 87.849542 (0.390267)\n",
      "CART: 90.102185 (0.408693)\n",
      "AB: 91.945519 (0.202898)\n",
      "GBM: 92.489250 (0.277606)\n",
      "RF: 91.823026 (0.145374)\n"
     ]
    }
   ],
   "source": [
    "# Spot-Check Algorithms\n",
    "models = []\n",
    "models.append(('LR', LogisticRegression()))\n",
    "models.append(('CART', DecisionTreeClassifier()))\n",
    "models.append(('AB', AdaBoostClassifier()))\n",
    "models.append(('GBM', GradientBoostingClassifier()))\n",
    "models.append(('RF', RandomForestClassifier()))\n",
    "\n",
    "results = []\n",
    "names = []\n",
    "for name, model in models:\n",
    "    kfold = StratifiedKFold(n_splits=5,shuffle=True,random_state = 27)#, n_folds=2, shuffle=False, random_state=seed)\n",
    "    cv_results = cross_val_score(model, X, y=Y, cv=kfold)\n",
    "    results.append(cv_results)\n",
    "    names.append(name)\n",
    "    msg = \"%s: %f (%f)\" % (name, cv_results.mean()*100, cv_results.std()*100)\n",
    "    print(msg)\n",
    "\n"
   ]
  },
  {
   "cell_type": "code",
   "execution_count": 259,
   "metadata": {
    "scrolled": true
   },
   "outputs": [
    {
     "data": {
      "image/png": "[encoded data removed]",
      "text/plain": [
       "<Figure size 864x360 with 2 Axes>"
      ]
     },
     "metadata": {},
     "output_type": "display_data"
    }
   ],
   "source": [
    "# Compare Algorithms\n",
    "fig, ax = plt.subplots(figsize=(12, 5))\n",
    "fig.suptitle('Algorithm Comparison')\n",
    "ax = fig.add_subplot(111,)\n",
    "plt.boxplot(results)\n",
    "\n",
    "plt.xlabel(\"Algorithm used\")\n",
    "plt.ylabel(\"Accuracy score\")\n",
    "ax.set_xticklabels(names)\n",
    "plt.show()"
   ]
  },
  {
   "cell_type": "markdown",
   "metadata": {},
   "source": [
    "# Conclusion\n",
    "* After Complete analysis we can conclude that random forest and gradient boosting has highest accuracy ~$93.5$% with grid search and cross fold     validation\n",
    "* Tree Based Algorithms are Performing better compare to other algorithms\n",
    "* Decision tree,Random Forest,XGBoost Algorithms."
   ]
  },
  {
   "cell_type": "markdown",
   "metadata": {},
   "source": [
    "# Finally !!!! Let's Make recommendation"
   ]
  },
  {
   "cell_type": "code",
   "execution_count": null,
   "metadata": {},
   "outputs": [],
   "source": []
  }
 ],
 "metadata": {
  "kernelspec": {
   "display_name": "Python 3",
   "language": "python",
   "name": "python3"
  },
  "language_info": {
   "codemirror_mode": {
    "name": "ipython",
    "version": 3
   },
   "file_extension": ".py",
   "mimetype": "text/x-python",
   "name": "python",
   "nbconvert_exporter": "python",
   "pygments_lexer": "ipython3",
   "version": "3.6.5"
  }
 },
 "nbformat": 4,
 "nbformat_minor": 2
}
